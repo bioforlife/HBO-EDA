{
 "cells": [
  {
   "cell_type": "code",
   "execution_count": 1,
   "id": "b8acca5c",
   "metadata": {},
   "outputs": [],
   "source": [
    "# Import Packages\n",
    "import pandas as pd\n",
    "import numpy as np\n",
    "import matplotlib.pyplot as plt\n",
    "import seaborn as sns\n",
    "from mpl_toolkits.mplot3d import Axes3D\n",
    "import warnings\n",
    "warnings.filterwarnings('ignore')\n",
    "import statistics\n",
    "import os\n",
    "os.environ['KMP_DUPLICATE_LIB_OK'] = 'True'\n",
    "\n"
   ]
  },
  {
   "cell_type": "code",
   "execution_count": 2,
   "id": "cbf456ff",
   "metadata": {},
   "outputs": [],
   "source": [
    "hbo_data = pd.read_csv('data/hbo_data.csv')"
   ]
  },
  {
   "cell_type": "code",
   "execution_count": 3,
   "id": "aee3f26a",
   "metadata": {},
   "outputs": [
    {
     "data": {
      "text/html": [
       "<div>\n",
       "<style scoped>\n",
       "    .dataframe tbody tr th:only-of-type {\n",
       "        vertical-align: middle;\n",
       "    }\n",
       "\n",
       "    .dataframe tbody tr th {\n",
       "        vertical-align: top;\n",
       "    }\n",
       "\n",
       "    .dataframe thead th {\n",
       "        text-align: right;\n",
       "    }\n",
       "</style>\n",
       "<table border=\"1\" class=\"dataframe\">\n",
       "  <thead>\n",
       "    <tr style=\"text-align: right;\">\n",
       "      <th></th>\n",
       "      <th>title</th>\n",
       "      <th>type</th>\n",
       "      <th>genres</th>\n",
       "      <th>releaseYear</th>\n",
       "      <th>imdbId</th>\n",
       "      <th>imdbAverageRating</th>\n",
       "      <th>imdbNumVotes</th>\n",
       "      <th>availableCountries</th>\n",
       "    </tr>\n",
       "  </thead>\n",
       "  <tbody>\n",
       "    <tr>\n",
       "      <th>0</th>\n",
       "      <td>The Fifth Element</td>\n",
       "      <td>movie</td>\n",
       "      <td>Action, Adventure, Sci-Fi</td>\n",
       "      <td>1997.0</td>\n",
       "      <td>tt0119116</td>\n",
       "      <td>7.6</td>\n",
       "      <td>517328.0</td>\n",
       "      <td>DK, FI, NO, SE</td>\n",
       "    </tr>\n",
       "    <tr>\n",
       "      <th>1</th>\n",
       "      <td>Unforgiven</td>\n",
       "      <td>movie</td>\n",
       "      <td>Drama, Western</td>\n",
       "      <td>1992.0</td>\n",
       "      <td>tt0105695</td>\n",
       "      <td>8.2</td>\n",
       "      <td>443986.0</td>\n",
       "      <td>AD, AG, AR, BB, BE, BO, BR, BS, BZ, CL, CO, CR...</td>\n",
       "    </tr>\n",
       "    <tr>\n",
       "      <th>2</th>\n",
       "      <td>Eternal Sunshine of the Spotless Mind</td>\n",
       "      <td>movie</td>\n",
       "      <td>Drama, Romance, Sci-Fi</td>\n",
       "      <td>2004.0</td>\n",
       "      <td>tt0338013</td>\n",
       "      <td>8.3</td>\n",
       "      <td>1104543.0</td>\n",
       "      <td>AG, AR, BB, BO, BS, BZ, CL, CO, CR, DO, EC, GT...</td>\n",
       "    </tr>\n",
       "  </tbody>\n",
       "</table>\n",
       "</div>"
      ],
      "text/plain": [
       "                                   title   type                     genres  \\\n",
       "0                      The Fifth Element  movie  Action, Adventure, Sci-Fi   \n",
       "1                             Unforgiven  movie             Drama, Western   \n",
       "2  Eternal Sunshine of the Spotless Mind  movie     Drama, Romance, Sci-Fi   \n",
       "\n",
       "   releaseYear     imdbId  imdbAverageRating  imdbNumVotes  \\\n",
       "0       1997.0  tt0119116                7.6      517328.0   \n",
       "1       1992.0  tt0105695                8.2      443986.0   \n",
       "2       2004.0  tt0338013                8.3     1104543.0   \n",
       "\n",
       "                                  availableCountries  \n",
       "0                                     DK, FI, NO, SE  \n",
       "1  AD, AG, AR, BB, BE, BO, BR, BS, BZ, CL, CO, CR...  \n",
       "2  AG, AR, BB, BO, BS, BZ, CL, CO, CR, DO, EC, GT...  "
      ]
     },
     "metadata": {},
     "output_type": "display_data"
    },
    {
     "data": {
      "text/html": [
       "<div>\n",
       "<style scoped>\n",
       "    .dataframe tbody tr th:only-of-type {\n",
       "        vertical-align: middle;\n",
       "    }\n",
       "\n",
       "    .dataframe tbody tr th {\n",
       "        vertical-align: top;\n",
       "    }\n",
       "\n",
       "    .dataframe thead th {\n",
       "        text-align: right;\n",
       "    }\n",
       "</style>\n",
       "<table border=\"1\" class=\"dataframe\">\n",
       "  <thead>\n",
       "    <tr style=\"text-align: right;\">\n",
       "      <th></th>\n",
       "      <th>releaseYear</th>\n",
       "      <th>imdbAverageRating</th>\n",
       "      <th>imdbNumVotes</th>\n",
       "    </tr>\n",
       "  </thead>\n",
       "  <tbody>\n",
       "    <tr>\n",
       "      <th>count</th>\n",
       "      <td>5735.000000</td>\n",
       "      <td>5321.000000</td>\n",
       "      <td>5.321000e+03</td>\n",
       "    </tr>\n",
       "    <tr>\n",
       "      <th>mean</th>\n",
       "      <td>2013.763208</td>\n",
       "      <td>6.662902</td>\n",
       "      <td>6.937265e+04</td>\n",
       "    </tr>\n",
       "    <tr>\n",
       "      <th>std</th>\n",
       "      <td>11.969007</td>\n",
       "      <td>1.041117</td>\n",
       "      <td>1.936380e+05</td>\n",
       "    </tr>\n",
       "    <tr>\n",
       "      <th>min</th>\n",
       "      <td>1903.000000</td>\n",
       "      <td>1.500000</td>\n",
       "      <td>5.000000e+00</td>\n",
       "    </tr>\n",
       "    <tr>\n",
       "      <th>25%</th>\n",
       "      <td>2010.000000</td>\n",
       "      <td>6.000000</td>\n",
       "      <td>3.000000e+02</td>\n",
       "    </tr>\n",
       "    <tr>\n",
       "      <th>50%</th>\n",
       "      <td>2018.000000</td>\n",
       "      <td>6.700000</td>\n",
       "      <td>2.360000e+03</td>\n",
       "    </tr>\n",
       "    <tr>\n",
       "      <th>75%</th>\n",
       "      <td>2021.000000</td>\n",
       "      <td>7.400000</td>\n",
       "      <td>4.013500e+04</td>\n",
       "    </tr>\n",
       "    <tr>\n",
       "      <th>max</th>\n",
       "      <td>2025.000000</td>\n",
       "      <td>9.400000</td>\n",
       "      <td>2.961822e+06</td>\n",
       "    </tr>\n",
       "  </tbody>\n",
       "</table>\n",
       "</div>"
      ],
      "text/plain": [
       "       releaseYear  imdbAverageRating  imdbNumVotes\n",
       "count  5735.000000        5321.000000  5.321000e+03\n",
       "mean   2013.763208           6.662902  6.937265e+04\n",
       "std      11.969007           1.041117  1.936380e+05\n",
       "min    1903.000000           1.500000  5.000000e+00\n",
       "25%    2010.000000           6.000000  3.000000e+02\n",
       "50%    2018.000000           6.700000  2.360000e+03\n",
       "75%    2021.000000           7.400000  4.013500e+04\n",
       "max    2025.000000           9.400000  2.961822e+06"
      ]
     },
     "metadata": {},
     "output_type": "display_data"
    },
    {
     "name": "stdout",
     "output_type": "stream",
     "text": [
      "<class 'pandas.core.frame.DataFrame'>\n",
      "RangeIndex: 5749 entries, 0 to 5748\n",
      "Data columns (total 8 columns):\n",
      " #   Column              Non-Null Count  Dtype  \n",
      "---  ------              --------------  -----  \n",
      " 0   title               5521 non-null   object \n",
      " 1   type                5749 non-null   object \n",
      " 2   genres              5626 non-null   object \n",
      " 3   releaseYear         5735 non-null   float64\n",
      " 4   imdbId              5386 non-null   object \n",
      " 5   imdbAverageRating   5321 non-null   float64\n",
      " 6   imdbNumVotes        5321 non-null   float64\n",
      " 7   availableCountries  5749 non-null   object \n",
      "dtypes: float64(3), object(5)\n",
      "memory usage: 359.4+ KB\n"
     ]
    },
    {
     "data": {
      "text/plain": [
       "None"
      ]
     },
     "metadata": {},
     "output_type": "display_data"
    },
    {
     "name": "stdout",
     "output_type": "stream",
     "text": [
      "(5749, 8)\n"
     ]
    }
   ],
   "source": [
    "display(hbo_data.head(3))\n",
    "display(hbo_data.describe())\n",
    "display(hbo_data.info())\n",
    "print(hbo_data.shape)"
   ]
  },
  {
   "cell_type": "code",
   "execution_count": null,
   "id": "4692e438",
   "metadata": {},
   "outputs": [],
   "source": []
  },
  {
   "cell_type": "markdown",
   "id": "f7818180",
   "metadata": {},
   "source": [
    "## Cleaning"
   ]
  },
  {
   "cell_type": "code",
   "execution_count": 4,
   "id": "5eaee66b",
   "metadata": {},
   "outputs": [
    {
     "data": {
      "text/html": [
       "<div>\n",
       "<style scoped>\n",
       "    .dataframe tbody tr th:only-of-type {\n",
       "        vertical-align: middle;\n",
       "    }\n",
       "\n",
       "    .dataframe tbody tr th {\n",
       "        vertical-align: top;\n",
       "    }\n",
       "\n",
       "    .dataframe thead th {\n",
       "        text-align: right;\n",
       "    }\n",
       "</style>\n",
       "<table border=\"1\" class=\"dataframe\">\n",
       "  <thead>\n",
       "    <tr style=\"text-align: right;\">\n",
       "      <th></th>\n",
       "      <th>title</th>\n",
       "      <th>type</th>\n",
       "      <th>genres</th>\n",
       "      <th>releaseYear</th>\n",
       "      <th>imdbId</th>\n",
       "      <th>imdbAverageRating</th>\n",
       "      <th>imdbNumVotes</th>\n",
       "      <th>availableCountries</th>\n",
       "    </tr>\n",
       "  </thead>\n",
       "  <tbody>\n",
       "    <tr>\n",
       "      <th>0</th>\n",
       "      <td>The Fifth Element</td>\n",
       "      <td>movie</td>\n",
       "      <td>Action, Adventure, Sci-Fi</td>\n",
       "      <td>1997.0</td>\n",
       "      <td>tt0119116</td>\n",
       "      <td>7.6</td>\n",
       "      <td>517328.0</td>\n",
       "      <td>DK, FI, NO, SE</td>\n",
       "    </tr>\n",
       "    <tr>\n",
       "      <th>1</th>\n",
       "      <td>Unforgiven</td>\n",
       "      <td>movie</td>\n",
       "      <td>Drama, Western</td>\n",
       "      <td>1992.0</td>\n",
       "      <td>tt0105695</td>\n",
       "      <td>8.2</td>\n",
       "      <td>443986.0</td>\n",
       "      <td>AD, AG, AR, BB, BE, BO, BR, BS, BZ, CL, CO, CR...</td>\n",
       "    </tr>\n",
       "    <tr>\n",
       "      <th>2</th>\n",
       "      <td>Eternal Sunshine of the Spotless Mind</td>\n",
       "      <td>movie</td>\n",
       "      <td>Drama, Romance, Sci-Fi</td>\n",
       "      <td>2004.0</td>\n",
       "      <td>tt0338013</td>\n",
       "      <td>8.3</td>\n",
       "      <td>1104543.0</td>\n",
       "      <td>AG, AR, BB, BO, BS, BZ, CL, CO, CR, DO, EC, GT...</td>\n",
       "    </tr>\n",
       "    <tr>\n",
       "      <th>3</th>\n",
       "      <td>A History of Violence</td>\n",
       "      <td>movie</td>\n",
       "      <td>Action, Crime, Drama</td>\n",
       "      <td>2005.0</td>\n",
       "      <td>tt0399146</td>\n",
       "      <td>7.4</td>\n",
       "      <td>259136.0</td>\n",
       "      <td>AG, AR, BB, BO, BR, BS, BZ, CL, CO, CR, DO, EC...</td>\n",
       "    </tr>\n",
       "    <tr>\n",
       "      <th>4</th>\n",
       "      <td>2001: A Space Odyssey</td>\n",
       "      <td>movie</td>\n",
       "      <td>Adventure, Sci-Fi</td>\n",
       "      <td>1968.0</td>\n",
       "      <td>tt0062622</td>\n",
       "      <td>8.3</td>\n",
       "      <td>735455.0</td>\n",
       "      <td>AD, AG, AR, BB, BE, BO, BR, BS, BZ, CL, CO, CR...</td>\n",
       "    </tr>\n",
       "  </tbody>\n",
       "</table>\n",
       "</div>"
      ],
      "text/plain": [
       "                                   title   type                     genres  \\\n",
       "0                      The Fifth Element  movie  Action, Adventure, Sci-Fi   \n",
       "1                             Unforgiven  movie             Drama, Western   \n",
       "2  Eternal Sunshine of the Spotless Mind  movie     Drama, Romance, Sci-Fi   \n",
       "3                  A History of Violence  movie       Action, Crime, Drama   \n",
       "4                  2001: A Space Odyssey  movie          Adventure, Sci-Fi   \n",
       "\n",
       "   releaseYear     imdbId  imdbAverageRating  imdbNumVotes  \\\n",
       "0       1997.0  tt0119116                7.6      517328.0   \n",
       "1       1992.0  tt0105695                8.2      443986.0   \n",
       "2       2004.0  tt0338013                8.3     1104543.0   \n",
       "3       2005.0  tt0399146                7.4      259136.0   \n",
       "4       1968.0  tt0062622                8.3      735455.0   \n",
       "\n",
       "                                  availableCountries  \n",
       "0                                     DK, FI, NO, SE  \n",
       "1  AD, AG, AR, BB, BE, BO, BR, BS, BZ, CL, CO, CR...  \n",
       "2  AG, AR, BB, BO, BS, BZ, CL, CO, CR, DO, EC, GT...  \n",
       "3  AG, AR, BB, BO, BR, BS, BZ, CL, CO, CR, DO, EC...  \n",
       "4  AD, AG, AR, BB, BE, BO, BR, BS, BZ, CL, CO, CR...  "
      ]
     },
     "execution_count": 4,
     "metadata": {},
     "output_type": "execute_result"
    }
   ],
   "source": [
    "hbo_data.head()\n",
    "#rename columns\n",
    "#separete genres, available countries\n",
    "#check to see the type of shows present -> separate if needed\n",
    "#remove imdbldlb\n",
    "#deal with null values"
   ]
  },
  {
   "cell_type": "code",
   "execution_count": 5,
   "id": "d8161d7c",
   "metadata": {},
   "outputs": [
    {
     "data": {
      "text/html": [
       "<div>\n",
       "<style scoped>\n",
       "    .dataframe tbody tr th:only-of-type {\n",
       "        vertical-align: middle;\n",
       "    }\n",
       "\n",
       "    .dataframe tbody tr th {\n",
       "        vertical-align: top;\n",
       "    }\n",
       "\n",
       "    .dataframe thead th {\n",
       "        text-align: right;\n",
       "    }\n",
       "</style>\n",
       "<table border=\"1\" class=\"dataframe\">\n",
       "  <thead>\n",
       "    <tr style=\"text-align: right;\">\n",
       "      <th></th>\n",
       "      <th>title</th>\n",
       "      <th>type</th>\n",
       "      <th>genres</th>\n",
       "      <th>release_year</th>\n",
       "      <th>tconst</th>\n",
       "      <th>rating</th>\n",
       "      <th>num_of_votes</th>\n",
       "      <th>available_countries</th>\n",
       "    </tr>\n",
       "  </thead>\n",
       "  <tbody>\n",
       "    <tr>\n",
       "      <th>0</th>\n",
       "      <td>The Fifth Element</td>\n",
       "      <td>movie</td>\n",
       "      <td>Action, Adventure, Sci-Fi</td>\n",
       "      <td>1997.0</td>\n",
       "      <td>tt0119116</td>\n",
       "      <td>7.6</td>\n",
       "      <td>517328.0</td>\n",
       "      <td>DK, FI, NO, SE</td>\n",
       "    </tr>\n",
       "    <tr>\n",
       "      <th>1</th>\n",
       "      <td>Unforgiven</td>\n",
       "      <td>movie</td>\n",
       "      <td>Drama, Western</td>\n",
       "      <td>1992.0</td>\n",
       "      <td>tt0105695</td>\n",
       "      <td>8.2</td>\n",
       "      <td>443986.0</td>\n",
       "      <td>AD, AG, AR, BB, BE, BO, BR, BS, BZ, CL, CO, CR...</td>\n",
       "    </tr>\n",
       "    <tr>\n",
       "      <th>2</th>\n",
       "      <td>Eternal Sunshine of the Spotless Mind</td>\n",
       "      <td>movie</td>\n",
       "      <td>Drama, Romance, Sci-Fi</td>\n",
       "      <td>2004.0</td>\n",
       "      <td>tt0338013</td>\n",
       "      <td>8.3</td>\n",
       "      <td>1104543.0</td>\n",
       "      <td>AG, AR, BB, BO, BS, BZ, CL, CO, CR, DO, EC, GT...</td>\n",
       "    </tr>\n",
       "  </tbody>\n",
       "</table>\n",
       "</div>"
      ],
      "text/plain": [
       "                                   title   type                     genres  \\\n",
       "0                      The Fifth Element  movie  Action, Adventure, Sci-Fi   \n",
       "1                             Unforgiven  movie             Drama, Western   \n",
       "2  Eternal Sunshine of the Spotless Mind  movie     Drama, Romance, Sci-Fi   \n",
       "\n",
       "   release_year     tconst  rating  num_of_votes  \\\n",
       "0        1997.0  tt0119116     7.6      517328.0   \n",
       "1        1992.0  tt0105695     8.2      443986.0   \n",
       "2        2004.0  tt0338013     8.3     1104543.0   \n",
       "\n",
       "                                 available_countries  \n",
       "0                                     DK, FI, NO, SE  \n",
       "1  AD, AG, AR, BB, BE, BO, BR, BS, BZ, CL, CO, CR...  \n",
       "2  AG, AR, BB, BO, BS, BZ, CL, CO, CR, DO, EC, GT...  "
      ]
     },
     "execution_count": 5,
     "metadata": {},
     "output_type": "execute_result"
    }
   ],
   "source": [
    "hbo_cleaning = hbo_data.copy()\n",
    "hbo_cleaning = hbo_cleaning.rename(columns={ \n",
    "    'imdbAverageRating': 'rating', 'imdbNumVotes': 'num_of_votes',\n",
    "   'availableCountries': 'available_Countries', \n",
    "    'releaseYear': 'release_Year', 'imdbId': 'tconst'\n",
    "})\n",
    "\n",
    "hbo_cleaning.columns = [x.lower() for x in hbo_cleaning.columns]\n",
    "\n",
    "hbo_cleaning.head(3)"
   ]
  },
  {
   "cell_type": "code",
   "execution_count": 6,
   "id": "18ef091d",
   "metadata": {},
   "outputs": [
    {
     "ename": "MemoryError",
     "evalue": "Unable to allocate 512. KiB for an array with shape (65536,) and data type int64",
     "output_type": "error",
     "traceback": [
      "\u001b[1;31m---------------------------------------------------------------------------\u001b[0m",
      "\u001b[1;31mMemoryError\u001b[0m                               Traceback (most recent call last)",
      "Cell \u001b[1;32mIn[6], line 3\u001b[0m\n\u001b[0;32m      1\u001b[0m \u001b[38;5;66;03m# Import and merge IMDB data\u001b[39;00m\n\u001b[0;32m      2\u001b[0m rating \u001b[38;5;241m=\u001b[39m pd\u001b[38;5;241m.\u001b[39mread_csv(\u001b[38;5;124m'\u001b[39m\u001b[38;5;124mdata/title.ratings.tsv\u001b[39m\u001b[38;5;124m'\u001b[39m, sep\u001b[38;5;241m=\u001b[39m\u001b[38;5;124m'\u001b[39m\u001b[38;5;130;01m\\t\u001b[39;00m\u001b[38;5;124m'\u001b[39m)\n\u001b[1;32m----> 3\u001b[0m genre \u001b[38;5;241m=\u001b[39m pd\u001b[38;5;241m.\u001b[39mread_csv(\u001b[38;5;124m'\u001b[39m\u001b[38;5;124mdata/title.basics.tsv\u001b[39m\u001b[38;5;124m'\u001b[39m, sep\u001b[38;5;241m=\u001b[39m\u001b[38;5;124m'\u001b[39m\u001b[38;5;130;01m\\t\u001b[39;00m\u001b[38;5;124m'\u001b[39m)\n\u001b[0;32m      5\u001b[0m \u001b[38;5;66;03m#tv_no_null = pd.merge(rating, tv_cleaning, on='tconst', how='inner')\u001b[39;00m\n\u001b[0;32m      6\u001b[0m display(genre\u001b[38;5;241m.\u001b[39mhead(\u001b[38;5;241m3\u001b[39m))\n",
      "File \u001b[1;32m~\\anaconda3\\Lib\\site-packages\\pandas\\io\\parsers\\readers.py:1026\u001b[0m, in \u001b[0;36mread_csv\u001b[1;34m(filepath_or_buffer, sep, delimiter, header, names, index_col, usecols, dtype, engine, converters, true_values, false_values, skipinitialspace, skiprows, skipfooter, nrows, na_values, keep_default_na, na_filter, verbose, skip_blank_lines, parse_dates, infer_datetime_format, keep_date_col, date_parser, date_format, dayfirst, cache_dates, iterator, chunksize, compression, thousands, decimal, lineterminator, quotechar, quoting, doublequote, escapechar, comment, encoding, encoding_errors, dialect, on_bad_lines, delim_whitespace, low_memory, memory_map, float_precision, storage_options, dtype_backend)\u001b[0m\n\u001b[0;32m   1013\u001b[0m kwds_defaults \u001b[38;5;241m=\u001b[39m _refine_defaults_read(\n\u001b[0;32m   1014\u001b[0m     dialect,\n\u001b[0;32m   1015\u001b[0m     delimiter,\n\u001b[1;32m   (...)\u001b[0m\n\u001b[0;32m   1022\u001b[0m     dtype_backend\u001b[38;5;241m=\u001b[39mdtype_backend,\n\u001b[0;32m   1023\u001b[0m )\n\u001b[0;32m   1024\u001b[0m kwds\u001b[38;5;241m.\u001b[39mupdate(kwds_defaults)\n\u001b[1;32m-> 1026\u001b[0m \u001b[38;5;28;01mreturn\u001b[39;00m _read(filepath_or_buffer, kwds)\n",
      "File \u001b[1;32m~\\anaconda3\\Lib\\site-packages\\pandas\\io\\parsers\\readers.py:626\u001b[0m, in \u001b[0;36m_read\u001b[1;34m(filepath_or_buffer, kwds)\u001b[0m\n\u001b[0;32m    623\u001b[0m     \u001b[38;5;28;01mreturn\u001b[39;00m parser\n\u001b[0;32m    625\u001b[0m \u001b[38;5;28;01mwith\u001b[39;00m parser:\n\u001b[1;32m--> 626\u001b[0m     \u001b[38;5;28;01mreturn\u001b[39;00m parser\u001b[38;5;241m.\u001b[39mread(nrows)\n",
      "File \u001b[1;32m~\\anaconda3\\Lib\\site-packages\\pandas\\io\\parsers\\readers.py:1923\u001b[0m, in \u001b[0;36mTextFileReader.read\u001b[1;34m(self, nrows)\u001b[0m\n\u001b[0;32m   1916\u001b[0m nrows \u001b[38;5;241m=\u001b[39m validate_integer(\u001b[38;5;124m\"\u001b[39m\u001b[38;5;124mnrows\u001b[39m\u001b[38;5;124m\"\u001b[39m, nrows)\n\u001b[0;32m   1917\u001b[0m \u001b[38;5;28;01mtry\u001b[39;00m:\n\u001b[0;32m   1918\u001b[0m     \u001b[38;5;66;03m# error: \"ParserBase\" has no attribute \"read\"\u001b[39;00m\n\u001b[0;32m   1919\u001b[0m     (\n\u001b[0;32m   1920\u001b[0m         index,\n\u001b[0;32m   1921\u001b[0m         columns,\n\u001b[0;32m   1922\u001b[0m         col_dict,\n\u001b[1;32m-> 1923\u001b[0m     ) \u001b[38;5;241m=\u001b[39m \u001b[38;5;28mself\u001b[39m\u001b[38;5;241m.\u001b[39m_engine\u001b[38;5;241m.\u001b[39mread(  \u001b[38;5;66;03m# type: ignore[attr-defined]\u001b[39;00m\n\u001b[0;32m   1924\u001b[0m         nrows\n\u001b[0;32m   1925\u001b[0m     )\n\u001b[0;32m   1926\u001b[0m \u001b[38;5;28;01mexcept\u001b[39;00m \u001b[38;5;167;01mException\u001b[39;00m:\n\u001b[0;32m   1927\u001b[0m     \u001b[38;5;28mself\u001b[39m\u001b[38;5;241m.\u001b[39mclose()\n",
      "File \u001b[1;32m~\\anaconda3\\Lib\\site-packages\\pandas\\io\\parsers\\c_parser_wrapper.py:234\u001b[0m, in \u001b[0;36mCParserWrapper.read\u001b[1;34m(self, nrows)\u001b[0m\n\u001b[0;32m    232\u001b[0m \u001b[38;5;28;01mtry\u001b[39;00m:\n\u001b[0;32m    233\u001b[0m     \u001b[38;5;28;01mif\u001b[39;00m \u001b[38;5;28mself\u001b[39m\u001b[38;5;241m.\u001b[39mlow_memory:\n\u001b[1;32m--> 234\u001b[0m         chunks \u001b[38;5;241m=\u001b[39m \u001b[38;5;28mself\u001b[39m\u001b[38;5;241m.\u001b[39m_reader\u001b[38;5;241m.\u001b[39mread_low_memory(nrows)\n\u001b[0;32m    235\u001b[0m         \u001b[38;5;66;03m# destructive to chunks\u001b[39;00m\n\u001b[0;32m    236\u001b[0m         data \u001b[38;5;241m=\u001b[39m _concatenate_chunks(chunks)\n",
      "File \u001b[1;32mparsers.pyx:838\u001b[0m, in \u001b[0;36mpandas._libs.parsers.TextReader.read_low_memory\u001b[1;34m()\u001b[0m\n",
      "File \u001b[1;32mparsers.pyx:921\u001b[0m, in \u001b[0;36mpandas._libs.parsers.TextReader._read_rows\u001b[1;34m()\u001b[0m\n",
      "File \u001b[1;32mparsers.pyx:1066\u001b[0m, in \u001b[0;36mpandas._libs.parsers.TextReader._convert_column_data\u001b[1;34m()\u001b[0m\n",
      "File \u001b[1;32mparsers.pyx:1120\u001b[0m, in \u001b[0;36mpandas._libs.parsers.TextReader._convert_tokens\u001b[1;34m()\u001b[0m\n",
      "File \u001b[1;32mparsers.pyx:1222\u001b[0m, in \u001b[0;36mpandas._libs.parsers.TextReader._convert_with_dtype\u001b[1;34m()\u001b[0m\n",
      "File \u001b[1;32mparsers.pyx:1833\u001b[0m, in \u001b[0;36mpandas._libs.parsers._try_int64\u001b[1;34m()\u001b[0m\n",
      "\u001b[1;31mMemoryError\u001b[0m: Unable to allocate 512. KiB for an array with shape (65536,) and data type int64"
     ]
    }
   ],
   "source": [
    "# Import and merge IMDB data\n",
    "rating = pd.read_csv('data/title.ratings.tsv', sep='\\t')\n",
    "genre = pd.read_csv('data/title.basics.tsv', sep='\\t')\n",
    "\n",
    "#tv_no_null = pd.merge(rating, tv_cleaning, on='tconst', how='inner')\n",
    "display(genre.head(3))\n",
    "display(rating.head(3))"
   ]
  },
  {
   "cell_type": "code",
   "execution_count": null,
   "id": "c287fb97",
   "metadata": {},
   "outputs": [],
   "source": [
    "display(hbo_cleaning[hbo_cleaning.isna().any(axis=1)])\n",
    "#delete null values with no name\n",
    "#df = df.dropna(how='any',axis=0) \n",
    "#can delete"
   ]
  },
  {
   "cell_type": "code",
   "execution_count": null,
   "id": "9bf74683",
   "metadata": {},
   "outputs": [],
   "source": [
    "# Dealing with null values\n",
    "display(hbo_cleaning[hbo_cleaning.isna().any(axis=1)].head())\n",
    "hbo_cleaning_na = hbo_cleaning.dropna(axis=0, subset=['title'], how='any')\n",
    "display(hbo_cleaning_na.head())\n",
    "#trial = hbo_cleaning_na"
   ]
  },
  {
   "cell_type": "code",
   "execution_count": null,
   "id": "eb8548a7",
   "metadata": {},
   "outputs": [],
   "source": [
    "# Dealing with titles with missing info from other columns\n",
    "hbo_cleaning_na = hbo_cleaning_na[hbo_cleaning_na.isna().any(axis=1)]\n",
    "missing_titles = hbo_cleaning_na['title'].unique()\n",
    "display(missing_titles)\n",
    "len(missing_titles)"
   ]
  },
  {
   "cell_type": "code",
   "execution_count": null,
   "id": "0d92df4f",
   "metadata": {},
   "outputs": [],
   "source": [
    "display(genre[genre['originalTitle'] == 'Siste Trikk'])\n",
    "display(hbo_cleaning_na[hbo_cleaning_na['title'] == 'Siste trikk'])\n",
    "display(genre[genre['originalTitle'] == 'Formula Dreams'])\n",
    "display(hbo_cleaning_na[hbo_cleaning_na['title'] == 'Formula Dreams'])\n",
    "display(genre[genre['originalTitle'] == 'さらば青春の光「会心の一撃」'])\n",
    "display(hbo_cleaning_na[hbo_cleaning_na['title'] == 'さらば青春の光「会心の一撃」'])\n",
    "display(genre[genre['originalTitle'] == '美少女特攻队'])\n",
    "display(hbo_cleaning_na[hbo_cleaning_na['title'] == '美少女特攻队'])\n"
   ]
  },
  {
   "cell_type": "code",
   "execution_count": null,
   "id": "00e4d615",
   "metadata": {},
   "outputs": [],
   "source": [
    "hbo_cleaning_na['title'] = [x.title() for x in hbo_cleaning_na['title']]\n",
    "#trial['title'] = trial['title'].capitalize()\n",
    "hbo_cleaning_na\n",
    "# remove full stop \n",
    "display(hbo_cleaning_na[hbo_cleaning_na['title'] == 'Drive.'])\n",
    "hbo_cleaning_na['title'] = [x.removesuffix('.') for x in hbo_cleaning_na['title']]\n",
    "display(hbo_cleaning_na.head())\n",
    "display(hbo_cleaning_na[hbo_cleaning_na['title'] == 'Drive'])"
   ]
  },
  {
   "cell_type": "code",
   "execution_count": null,
   "id": "fabfc30c",
   "metadata": {},
   "outputs": [],
   "source": [
    "\n"
   ]
  },
  {
   "cell_type": "code",
   "execution_count": null,
   "id": "7f4e56df",
   "metadata": {},
   "outputs": [],
   "source": [
    "#Cleaning genre \n",
    "genre = genre.rename(columns={ \n",
    "    'primaryTitle': 'title', 'startYear': 'release_year'    \n",
    "})\n",
    "genre['release_year'] = genre['release_year'].astype(str)\n",
    "hbo_cleaning_na['release_year'] = hbo_cleaning_na['release_year'].astype(str)\n",
    "genre.head()"
   ]
  },
  {
   "cell_type": "code",
   "execution_count": null,
   "id": "b9e1adf3",
   "metadata": {
    "scrolled": true
   },
   "outputs": [],
   "source": [
    "#hbo_imdb = trial.merge(genre, how='left', on=['title', 'release_year'])\n",
    "#hbo_imdb.head()"
   ]
  },
  {
   "cell_type": "code",
   "execution_count": null,
   "id": "4125fd47",
   "metadata": {},
   "outputs": [],
   "source": [
    "missing_genre_titles = list(hbo_cleaning_na['title'].unique())\n",
    "needed_genre_titles = genre[genre['title'].isin(missing_genre_titles)]\n",
    "needed_genre_titles.head()\n",
    "#m= missing_genre_titles\n",
    "#a= needed_genre_titles"
   ]
  },
  {
   "cell_type": "code",
   "execution_count": null,
   "id": "6aa53acd-67cc-44c3-88b0-e7e274e9ae8a",
   "metadata": {},
   "outputs": [],
   "source": [
    "missing_genres = needed_genre_titles.drop_duplicates(subset='title')\n",
    "missing_genres = missing_genres.drop(columns=['isAdult', 'runtimeMinutes', 'endYear'])\n",
    "missing_genres.head()"
   ]
  },
  {
   "cell_type": "code",
   "execution_count": null,
   "id": "c2f8b09c-3bd3-4178-a65e-1f6eabfbb0d3",
   "metadata": {},
   "outputs": [],
   "source": []
  },
  {
   "cell_type": "code",
   "execution_count": null,
   "id": "90ace672-4d5d-4720-97d0-88cfe6a43bec",
   "metadata": {},
   "outputs": [],
   "source": [
    "hbo_cleaning_genre = hbo_cleaning_na.merge(missing_genres, how='right', on=['title', 'release_year', 'genres'])\n",
    "hbo_cleaning_genre = hbo_cleaning_genre.drop(columns=['type', 'tconst_x', 'rating', 'num_of_votes', 'available_countries'])\n",
    "hbo_cleaning_genre = hbo_cleaning_genre.rename(columns={'tconst_y': 'tconst'})\n",
    "hbo_cleaning_genre['release_year'] = hbo_cleaning_genre['release_year'].astype(str) \n",
    "hbo_cleaning_genre.head()\n",
    "#check = hbo_cleaning_genre"
   ]
  },
  {
   "cell_type": "code",
   "execution_count": null,
   "id": "2dcfaf27-eee8-4826-a3d0-2596e1d584bb",
   "metadata": {},
   "outputs": [],
   "source": [
    "#check = trial.merge(missing_genres, how='right', on=['title', 'release_year', 'genres'])\n",
    "#check = check.drop(columns=['type', 'release_year', 'tconst_x', 'rating', 'num_of_votes', 'available_countries'])\n",
    "#check = check.rename(columns={'tconst_y': 'tconst'})\n",
    "#check          "
   ]
  },
  {
   "cell_type": "code",
   "execution_count": null,
   "id": "8ccfe96b-a9b6-40d8-bb19-622515df7597",
   "metadata": {},
   "outputs": [],
   "source": [
    "hbo_cleaning_genre['titleType'].unique()\n"
   ]
  },
  {
   "cell_type": "code",
   "execution_count": null,
   "id": "be4c7a8b-98f5-47aa-87d2-71522662624b",
   "metadata": {},
   "outputs": [],
   "source": [
    "#cleaning genre column\n",
    "\n",
    "display(hbo_cleaning_genre['titleType'].unique())\n",
    "\n",
    "def replace_values(x):\n",
    "    if x == 'tvSeries' or x == 'tvEpisode' or x == 'tvSpecial' or x == 'tvMiniSeries':\n",
    "        return 'tv'\n",
    "    elif x == 'tvMovie' or x == 'movie':\n",
    "        return 'movie'\n",
    "    else:\n",
    "        return x\n",
    "\n",
    "hbo_cleaning_genre['titleType'] =hbo_cleaning_genre['titleType'].apply(replace_values)\n",
    "hbo_cleaning_genre = hbo_cleaning_genre.rename(columns={'titleType': 'type'})\n",
    "hbo_cleaning_genre.head()"
   ]
  },
  {
   "cell_type": "code",
   "execution_count": null,
   "id": "94b54701-cf4d-4d56-a8d8-6e2bb60a9431",
   "metadata": {},
   "outputs": [],
   "source": []
  },
  {
   "cell_type": "code",
   "execution_count": null,
   "id": "1733153c-68b2-4c49-a35d-e3265ab8b54d",
   "metadata": {},
   "outputs": [],
   "source": [
    "#Cleaning the rating and num of votes columns\n",
    "\n",
    "hbo_cleaning['release_year'] = hbo_cleaning['release_year'].astype(str) \n",
    "hbo_cleaning_rating = hbo_cleaning.merge(hbo_cleaning_genre, how='outer', on=['title', 'genres', 'tconst', 'type', 'release_year'])\n",
    "hbo_cleaning_rating = hbo_cleaning_rating.drop(columns=['originalTitle'])\n",
    "display(hbo_cleaning_rating[hbo_cleaning_rating['title'] == 'Destino Deporte'])\n",
    "hbo_cleaning_rating.head()\n",
    "#eren = hbo_cleaning_rating"
   ]
  },
  {
   "cell_type": "code",
   "execution_count": null,
   "id": "5a476e67-af54-44fc-b31f-3e6e08c850b3",
   "metadata": {},
   "outputs": [],
   "source": [
    "#finding the columns with missing values in the rating and number of votes columns.\n",
    "\n",
    "#eren = eren.drop(columns=['originalTitle'])\n",
    "hbo_cleaning_rating = hbo_cleaning_rating[hbo_cleaning_rating['title'].notna()]\n",
    "display(hbo_cleaning_rating.head())\n",
    "hbo_cleaning_rating_na = hbo_cleaning_rating[hbo_cleaning_rating.isna().any(axis=1)]\n",
    "hbo_cleaning_rating_na['title'].unique\n",
    "#eren_cleaning_2 = hbo_cleaning_rating_na"
   ]
  },
  {
   "cell_type": "code",
   "execution_count": null,
   "id": "bbe7132b-e145-4cc3-97f3-e063887b9ba2",
   "metadata": {},
   "outputs": [],
   "source": [
    "no_rating = list(hbo_cleaning_rating_na['tconst'].unique())\n",
    "missing_rating = rating[rating['tconst'].isin(no_rating)]\n",
    "missing_rating.head()\n",
    "missing_rating = missing_rating.rename(columns={'averageRating': 'rating', 'numVotes': 'num_of_votes'})\n",
    "missing_rating.head()"
   ]
  },
  {
   "cell_type": "code",
   "execution_count": null,
   "id": "2fdb8af6-647e-4d39-b4af-20476162e42b",
   "metadata": {},
   "outputs": [],
   "source": [
    "# missing ratings with values\n",
    "rating_cleaned = hbo_cleaning_rating_na.merge(missing_rating, how='inner', on=['tconst', 'rating', 'num_of_votes'])\n",
    "\n",
    "rating_cleaned = rating_cleaned.drop(columns=['genres', 'release_year', 'type', 'available_countries'])\n",
    "rating_cleaned\n",
    "#eren_cleaned= rating_cleaned"
   ]
  },
  {
   "cell_type": "code",
   "execution_count": null,
   "id": "0459853c-78b6-48aa-8ba6-66f08e71260b",
   "metadata": {},
   "outputs": [],
   "source": [
    "hbo_cleaned = hbo_cleaning_rating.merge(rating_cleaned, how='left', on=['title', 'tconst', 'rating', 'num_of_votes'])\n",
    "hbo_cleaned.head()"
   ]
  },
  {
   "cell_type": "code",
   "execution_count": null,
   "id": "3811b47b-cad0-4342-aebf-1627d64f26d9",
   "metadata": {},
   "outputs": [],
   "source": [
    "#remove null value if unable to find missing data in imdb. Remove tconst, remove short and video from the type column.\n",
    "display(hbo_cleaned[hbo_cleaned.isna().any(axis=1)].sample(5))\n",
    "hbo_cleaned = hbo_cleaned[hbo_cleaned['tconst'].notna()]\n",
    "display(hbo_cleaned[hbo_cleaned.isna().any(axis=1)].sample(5))\n",
    "display(hbo_cleaned['type'].unique())\n",
    "hbo_cleaned = hbo_cleaned[hbo_cleaned['type'] != 'video']\n",
    "hbo_cleaned = hbo_cleaned[hbo_cleaned['type'] != 'short']\n",
    "display(hbo_cleaned[hbo_cleaned.isna().any(axis=1)].sample(5))\n",
    "display(print('Are there any null values in available countries in the original dataset:'),hbo_cleaning.isna().sum())\n",
    "hbo_cleaned = hbo_cleaned[hbo_cleaned['available_countries'].notna()]\n",
    "display(hbo_cleaned[hbo_cleaned.isna().any(axis=1)].sample(5))                              "
   ]
  },
  {
   "cell_type": "code",
   "execution_count": null,
   "id": "30ae89b1-505c-49fc-af01-180bfe427f7d",
   "metadata": {},
   "outputs": [],
   "source": []
  },
  {
   "cell_type": "code",
   "execution_count": null,
   "id": "f4ea75b2-7b61-4470-972d-80bda50b7bed",
   "metadata": {},
   "outputs": [],
   "source": [
    "#Try  fill out the Null values in genres sector with imdb data from dataset I imported or external sources.\n",
    "#Null values in rating and number of voyes will be filled in using the same method.\n",
    "print('Values with missing genres.')\n",
    "display(hbo_cleaned[hbo_cleaned['genres'].isna()])\n",
    "\n",
    "print('Finding values with missing genres using imdb.')\n",
    "null_genres = hbo_cleaned[hbo_cleaned['genres'].isna()]\n",
    "null_genres = list(null_genres['title'].unique())\n",
    "imdb_null_genres = genre[genre['title'].isin(null_genres)]\n",
    "display(imdb_null_genres)\n",
    "\n",
    "print('Values with missing rating and number of votes.')\n",
    "display(hbo_cleaned[hbo_cleaned['rating'].isna()])\n",
    "\n",
    "print('Finding values with missing rating and number of votes using imdb.')\n",
    "null_rating = hbo_cleaned[hbo_cleaned['tconst'].isna()]\n",
    "null_rating = list(null_rating['tconst'].unique())\n",
    "imdb_null_rating = rating[rating['tconst'].isin(null_rating)]\n",
    "display(imdb_null_rating)\n",
    "\n",
    "# I decided to keep these null values, as I beleive removing the rows might skew my analysis and I think these rows contain information that is usefull for my EDA.\n"
   ]
  },
  {
   "cell_type": "code",
   "execution_count": null,
   "id": "7bd30392-bb5e-4376-bebb-19e7557d6719",
   "metadata": {},
   "outputs": [],
   "source": [
    "#Double checking cleaned dataframe. \n",
    "#Expectation: Type column should only have TV and movie.\n",
    "#Expectation: Null values only in genres, rating and number of votes columns.\n",
    "display(hbo_cleaned['type'].unique())\n",
    "display(hbo_cleaned.isna().sum())"
   ]
  },
  {
   "cell_type": "code",
   "execution_count": null,
   "id": "c914d6a8-48ee-475e-ab13-e4189a010663",
   "metadata": {},
   "outputs": [],
   "source": [
    "#making multiple dataframe for type, genres and available countries analysis and creating a countries count column.\n",
    "hbo_cleaned_movie = hbo_cleaned[hbo_cleaned['type'] == 'movie']\n",
    "hbo_cleaned_tv = hbo_cleaned[hbo_cleaned['type'] == 'tv']\n",
    "display(hbo_cleaned_movie.head(3))\n",
    "display(hbo_cleaned_tv.head(3))\n",
    "\n",
    "movie_genre_cleaning = hbo_cleaned_movie.copy()\n",
    "tv_genre_cleaning = hbo_cleaned_tv.copy()\n",
    "\n",
    "movie_countries_cleaning = hbo_cleaned_movie.copy()\n",
    "tv_countries_cleaning = hbo_cleaned_tv.copy()\n",
    "\n",
    "#separating str.\n",
    "movie_genre_cleaning['genres'] = movie_genre_cleaning['genres'].str.split(\",\")\n",
    "movie_genre_cleaned = movie_genre_cleaning.explode('genres')\n",
    "\n",
    "\n",
    "tv_genre_cleaning['genres'] = tv_genre_cleaning['genres'].str.split(\",\")\n",
    "tv_genre_cleaned = tv_genre_cleaning.explode('genres')\n",
    "\n",
    "movie_countries_cleaning['available_countries'] = movie_countries_cleaning['available_countries'].str.split(\",\")\n",
    "movie_countries_cleaned = movie_countries_cleaning.explode('available_countries')\n",
    "\n",
    "\n",
    "tv_countries_cleaning['available_countries'] = tv_countries_cleaning['available_countries'].str.split(\",\")\n",
    "tv_countries_cleaned = tv_countries_cleaning.explode('available_countries')\n",
    "\n",
    "#Further analysis:\n",
    "\n",
    "movie_genre_countries_cleaned = movie_genre_cleaned.copy()\n",
    "tv_genre_countries_cleaned = tv_genre_cleaned.copy()\n",
    "\n",
    "movie_genre_countries_cleaned['available_countries'] = movie_genre_countries_cleaned['available_countries'].str.split(\",\")\n",
    "movie_genre_countries_analysis = movie_genre_countries_cleaned.explode('available_countries')\n",
    "\n",
    "\n",
    "tv_genre_countries_cleaned['available_countries'] = tv_genre_countries_cleaned['available_countries'].str.split(\",\")\n",
    "tv_genre_countries_analysis = tv_genre_countries_cleaned.explode('available_countries')\n",
    "\n",
    "# available countries freq based on countries\n",
    "movie_countries_cleaned['available_countries_freq']=movie_countries_cleaned.groupby(by='title')['title'].transform('count')\n",
    "movie_countries_cleaned_duplicates = movie_countries_cleaned.copy()\n",
    "tv_countries_cleaned['available_countries_freq']=tv_countries_cleaned.groupby(by='title')['title'].transform('count')\n",
    "tv_countries_cleaned_duplicates = tv_countries_cleaned.copy()\n",
    "\n",
    "movie_countries_freq = movie_countries_cleaned_duplicates.drop_duplicates('title')\n",
    "tv_countries_freq = tv_countries_cleaned_duplicates.drop_duplicates('title')\n",
    "\n",
    "double_checking_movie = hbo_cleaned_movie[hbo_cleaned_movie['title'] == '#FBF']\n",
    "list(double_checking_movie['available_countries'])\n",
    "double_checking_tv= hbo_cleaned_tv[hbo_cleaned_tv['title'] == '#BringBackAlice']\n",
    "list(double_checking_tv['available_countries'])\n",
    "\n",
    "display(movie_genre_cleaned.head(3))\n",
    "display(tv_genre_cleaned.head(3))\n",
    "display(movie_countries_cleaned.head(3))\n",
    "display(tv_countries_cleaned.head(3))\n",
    "display(movie_genre_countries_analysis.head(3))\n",
    "display(tv_genre_countries_analysis.head(3))\n",
    "display(movie_countries_freq.head(3))\n",
    "display(tv_countries_freq.head(3))\n",
    "print('checking the freq column to see if it matches with the number of available countries:')\n",
    "display(list(double_checking_movie['available_countries']))\n",
    "display(list(double_checking_tv['available_countries']))"
   ]
  },
  {
   "cell_type": "code",
   "execution_count": null,
   "id": "f9372c5b-c423-4961-be65-b6bf9ec0788b",
   "metadata": {},
   "outputs": [],
   "source": []
  },
  {
   "cell_type": "code",
   "execution_count": null,
   "id": "da62e8bb-95c4-4f9f-ac9b-cdc8dbc1be52",
   "metadata": {},
   "outputs": [],
   "source": []
  },
  {
   "cell_type": "code",
   "execution_count": null,
   "id": "8cc3c9b9-484c-4b00-947f-fba68b29ae01",
   "metadata": {},
   "outputs": [],
   "source": []
  },
  {
   "cell_type": "markdown",
   "id": "353e7f3c-6c45-47c5-a008-0f0192a8a6ef",
   "metadata": {},
   "source": [
    "## Data Analaysis and visualisation"
   ]
  },
  {
   "cell_type": "code",
   "execution_count": null,
   "id": "a1b72815-89ff-4df3-bf36-30a92d3ac90b",
   "metadata": {},
   "outputs": [],
   "source": [
    "#display(movie_genre_cleaned.head(3)) -> use when analysing the movie genres\n",
    "#display(tv_genre_cleaned.head(3)) -> use when analysing tv genres.\n",
    "#display(movie_countries_cleaned.head(3))\n",
    "#display(tv_countries_cleaned.head(3))\n",
    "#display(movie_countries_freq.head(3))\n",
    "#display(tv_countries_freq.head(3))"
   ]
  },
  {
   "cell_type": "code",
   "execution_count": null,
   "id": "3a2c2023-bd51-4569-986f-e41c5936a449",
   "metadata": {},
   "outputs": [],
   "source": []
  },
  {
   "cell_type": "markdown",
   "id": "7745872d-273f-4939-b088-cbe910c4a7d9",
   "metadata": {},
   "source": [
    "## Overall"
   ]
  },
  {
   "cell_type": "code",
   "execution_count": null,
   "id": "5774d2e1-7e77-4811-9af2-5f429f8fd8bc",
   "metadata": {},
   "outputs": [],
   "source": [
    "# Pie chart -> shows the different type of shows in HBO.\n",
    "len(hbo_cleaned_movie)\n",
    "#3535\n",
    "len(hbo_cleaned_tv)\n",
    "#1851\n",
    "\n",
    "plt.figure(figsize=(6, 6))\n",
    "colors = sns.color_palette(\"Paired\")[3:6]\n",
    "\n",
    "data = [3535, 1851]\n",
    "labels = ['Movies', 'Tv shows']\n",
    "\n",
    "plt.pie(data, labels = labels, colors = colors, autopct='%.0f%%')\n",
    "plt.title('HBO Movies vs Tv')\n",
    "plt.show()\n",
    "\n",
    "movie_num_countries = movie_countries_cleaned['available_countries'].nunique()\n",
    "tv_num_countries = tv_countries_cleaned['available_countries'].nunique()\n",
    "print('Number of countries HBO movies are available in:', movie_num_countries)\n",
    "print('Number of countries HBO tv shows are available in:', movie_num_countries)"
   ]
  },
  {
   "cell_type": "code",
   "execution_count": null,
   "id": "2fc64770-cc2c-40a1-a237-3aef4dcd27ff",
   "metadata": {},
   "outputs": [],
   "source": []
  },
  {
   "cell_type": "markdown",
   "id": "36d9871e-f5a3-43df-abc8-1e021d8fa9d5",
   "metadata": {},
   "source": [
    "## Available Countires Analysis"
   ]
  },
  {
   "cell_type": "code",
   "execution_count": null,
   "id": "2ef84f44-d562-43b9-bfd2-b82b3e0f865c",
   "metadata": {},
   "outputs": [],
   "source": [
    "#display(movie_countries_freq.head(3))\n",
    "#display(tv_countries_freq.head(3))\n",
    "\n",
    "movie_available_countries = movie_countries_cleaned.drop_duplicates('title')\n",
    "tv_available_countries = tv_countries_cleaned.drop_duplicates('title')\n",
    "#display(movie_available_countries.head(3))\n",
    "#display(tv_available_countries.head(3))"
   ]
  },
  {
   "cell_type": "code",
   "execution_count": null,
   "id": "85999c53-dd8e-4a2b-9310-785e103bb8c4",
   "metadata": {},
   "outputs": [],
   "source": []
  },
  {
   "cell_type": "code",
   "execution_count": null,
   "id": "69d91e0a-9882-4c44-a664-d0443755151c",
   "metadata": {},
   "outputs": [],
   "source": [
    "\n",
    "film_colour = '#66c2a5'\n",
    "tv_colour = '#fc8d62'\n",
    "\n",
    "fig, axes = plt.subplots(1, 2, figsize=(14, 6))\n",
    "\n",
    "# TV\n",
    "top_countries_tv = tv_available_countries['available_countries'].value_counts().head(10)\n",
    "top_countries_tv.plot(kind='bar', ax=axes[0], color=tv_colour)\n",
    "axes[0].set_title('Top 10 Countries with the Highest Number of TV Shows')\n",
    "axes[0].set_xlabel('Country')\n",
    "axes[0].set_ylabel('Number of TV Shows')\n",
    "axes[0].set_xticklabels(labels=list(top_countries_tv.index), rotation=35, ha='right')\n",
    "\n",
    "# Film\n",
    "top_countries_film = movie_countries_freq['available_countries'].value_counts().head(10)\n",
    "top_countries_film.plot(kind='bar', ax=axes[1],  color=film_colour)\n",
    "axes[1].set_title('Top 10 Countries with the Highest Number of Films')\n",
    "axes[1].set_xlabel('Country')\n",
    "axes[1].set_ylabel('Number of Films')\n",
    "axes[1].set_xticklabels(labels=list(top_countries_film.index), rotation=35, ha='right')\n",
    "\n",
    "\n",
    "plt.tight_layout()\n",
    "plt.show()"
   ]
  },
  {
   "cell_type": "markdown",
   "id": "9f296d68-0b80-4fe7-835e-02b1b03f6e48",
   "metadata": {},
   "source": [
    "### TV shows and movies country availabilities is based on licensing rights, region/country content laws and shows/movies success rates"
   ]
  },
  {
   "cell_type": "code",
   "execution_count": null,
   "id": "62f93c26-41a1-4d1e-b6b1-a86f6e09075e",
   "metadata": {},
   "outputs": [],
   "source": [
    "fig, axes = plt.subplots(1, 2, figsize=(14, 6))\n",
    "\n",
    "# TV\n",
    "top_countries_tv = tv_countries_freq['available_countries_freq'].value_counts().head(10)\n",
    "top_countries_tv.plot(kind='bar', ax=axes[0], color=tv_colour)\n",
    "axes[0].set_title('Top 10 Countries with the Highest Number of TV Shows')\n",
    "axes[0].set_xlabel('available_countries_freq')\n",
    "axes[0].set_ylabel('Count')\n",
    "axes[0].set_xticklabels(labels=list(top_countries_tv.index), rotation=35, ha='right')\n",
    "\n",
    "# Film\n",
    "top_countries_film = movie_available_countries['available_countries_freq'].value_counts().head(10)\n",
    "top_countries_film.plot(kind='bar', ax=axes[1],  color=film_colour)\n",
    "axes[1].set_title('Top 10 Countries with the Highest Number of Films')\n",
    "axes[1].set_xlabel('available_countries_freq')\n",
    "axes[1].set_ylabel('Count')\n",
    "axes[1].set_xticklabels(labels=list(top_countries_film.index), rotation=35, ha='right')\n",
    "\n",
    "\n",
    "plt.tight_layout()\n",
    "plt.show()"
   ]
  },
  {
   "cell_type": "code",
   "execution_count": null,
   "id": "09011a8c-5933-4af4-b070-860744d8fc3d",
   "metadata": {},
   "outputs": [],
   "source": [
    "\n",
    "# Film Dist\n",
    "plt.figure(figsize=(8, 4))\n",
    "sns.histplot(movie_available_countries['available_countries_freq'], bins=20, kde=True, color=film_colour)\n",
    "plt.title('Distribution of Film Countries frequency')\n",
    "plt.xlabel('Countries Frequency')\n",
    "plt.ylabel('Frequency')\n",
    "plt.show()\n",
    "\n",
    "# TV Dist\n",
    "plt.figure(figsize=(8, 4))\n",
    "sns.histplot(tv_countries_freq['available_countries_freq'], bins=20, kde=True, color=tv_colour)\n",
    "plt.title('Distribution of TV Show Countries frequency')\n",
    "plt.xlabel('Countries Frequency')\n",
    "plt.ylabel('Frequency')\n",
    "plt.show()\n",
    "\n",
    "#stats_1_movie = hbo_cleaned_movie[hbo_cleaned_movie['rating'].notna()]\n",
    "#stats_1_tv = hbo_cleaned_tv[hbo_cleaned_tv['rating'].notna()]\n",
    "stats_movie = list(movie_available_countries['available_countries_freq'])\n",
    "stats_tv = list(tv_countries_freq['available_countries_freq'])\n",
    "\n",
    "x = round(statistics.mean(stats_movie), 2)\n",
    "print(\"Movie available countries freq mean is :\", x)\n",
    "x = round(statistics.mean(stats_tv), 2)\n",
    "print(\"Tv show available countries freq mean is :\", x)\n",
    "\n",
    "x = statistics.mode(stats_movie)\n",
    "print(\"Movie available countries freq mode is :\", x)\n",
    "x = statistics.mode(stats_tv)\n",
    "print(\"Tv show available countries freq mode is :\", x)\n",
    "\n",
    "x = max(stats_movie)\n",
    "print(\"Movie available countries freq max is :\", x)\n",
    "x = max(stats_tv)\n",
    "print(\"Tv show available countries freq max is :\", x)\n",
    "\n",
    "\n",
    "x = min(stats_movie)\n",
    "print(\"Movie available countries freq min is :\", x)\n",
    "x = min(stats_tv)\n",
    "print(\"Tv show available countries freq min is :\", x)"
   ]
  },
  {
   "cell_type": "code",
   "execution_count": null,
   "id": "e21ce1ad-238d-4bde-baef-1aabd1b31b6a",
   "metadata": {},
   "outputs": [],
   "source": []
  },
  {
   "cell_type": "code",
   "execution_count": null,
   "id": "b0fa08a4-6f1a-450a-8059-bc7fdb179334",
   "metadata": {},
   "outputs": [],
   "source": []
  },
  {
   "cell_type": "markdown",
   "id": "60a6adcf-c6d2-4807-a9fb-2eb0a2e38a6f",
   "metadata": {},
   "source": [
    "## Genres Analysis"
   ]
  },
  {
   "cell_type": "code",
   "execution_count": null,
   "id": "a4b5ca7c-c177-40f9-8f1e-3f9401ed3781",
   "metadata": {},
   "outputs": [],
   "source": [
    "#display(movie_genre_cleaned.head(3))\n",
    "#display(tv_genre_cleaned.head(3))"
   ]
  },
  {
   "cell_type": "code",
   "execution_count": null,
   "id": "32350796-35c9-40b9-afd8-1e191a3a09de",
   "metadata": {},
   "outputs": [],
   "source": [
    "#Genres\n",
    "fig, axes = plt.subplots(1, 2, figsize=(14, 6))\n",
    "\n",
    "# TV\n",
    "top_genres_tv = tv_genre_cleaned['genres'].value_counts().head(10)\n",
    "top_genres_tv.plot(kind='bar', ax=axes[0], color=tv_colour)\n",
    "axes[0].set_title('Top 10 Genres - TV Shows')\n",
    "axes[0].set_xlabel('Genre')\n",
    "axes[0].set_ylabel('Count')\n",
    "axes[0].set_xticklabels(labels=list(top_genres_tv.index), rotation=35, ha='right')\n",
    "\n",
    "# Film\n",
    "top_genres_film = movie_genre_cleaned['genres'].value_counts().head(10)\n",
    "top_genres_film.plot(kind='bar', ax=axes[1],  color=film_colour)\n",
    "axes[1].set_title('Top 10 Genres - Films')\n",
    "axes[1].set_xlabel('Genre')\n",
    "axes[1].set_ylabel('Count')\n",
    "axes[1].set_xticklabels(labels=list(top_genres_film.index), rotation=35, ha='right')\n",
    "\n",
    "\n",
    "plt.tight_layout()\n",
    "plt.show()"
   ]
  },
  {
   "cell_type": "markdown",
   "id": "5a2aae5c-0008-49cd-9ae6-8fe72e7fad8f",
   "metadata": {},
   "source": [
    "### The most common tv show genre in HBO is Reality TV.\n",
    "### The most common film genre in HBO is Drama."
   ]
  },
  {
   "cell_type": "code",
   "execution_count": null,
   "id": "89e3f82c-9fbd-43bf-a1f5-071a955be4ea",
   "metadata": {},
   "outputs": [],
   "source": [
    "\n",
    "\n"
   ]
  },
  {
   "cell_type": "markdown",
   "id": "eff6a28d-66c4-4877-b458-d621dbf71bdf",
   "metadata": {},
   "source": [
    "## Ratings"
   ]
  },
  {
   "cell_type": "code",
   "execution_count": null,
   "id": "fce7eb90-f379-48f3-b2d5-a62ef3418458",
   "metadata": {
    "scrolled": true
   },
   "outputs": [],
   "source": [
    "#need to remove the null values as I am analysing the rating and release year.\n",
    "hbo_cleaned_movie['release_year'] = hbo_cleaned_movie['release_year'].astype(float)\n",
    "hbo_cleaned_tv['release_year'] = hbo_cleaned_tv['release_year'].astype(float)\n",
    "\n",
    "\n",
    "                                                                      "
   ]
  },
  {
   "cell_type": "code",
   "execution_count": null,
   "id": "0eb262cc-1245-4bb1-a2fa-e0b43637edce",
   "metadata": {},
   "outputs": [],
   "source": [
    "plt.figure(figsize=(8, 4))\n",
    "sns.histplot(hbo_cleaned_movie['rating'], bins=20, kde=True, color=film_colour)\n",
    "plt.title('Distribution of Film Rating')\n",
    "plt.xlabel('Film Rating')\n",
    "plt.ylabel('Frequency')\n",
    "plt.show()\n",
    "\n",
    "# Film Dist\n",
    "plt.figure(figsize=(8, 4))\n",
    "sns.histplot(hbo_cleaned_tv['rating'], bins=20, kde=True, color=tv_colour)\n",
    "plt.title('Distribution of Tv Show Durations')\n",
    "plt.xlabel('Tv Rating')\n",
    "plt.ylabel('Frequency')\n",
    "plt.show()\n",
    "\n",
    "stats_1_movie = hbo_cleaned_movie[hbo_cleaned_movie['rating'].notna()]\n",
    "stats_1_tv = hbo_cleaned_tv[hbo_cleaned_tv['rating'].notna()]\n",
    "stats_1_movie = list(stats_1_movie['rating'])\n",
    "stats_1_tv = list(stats_1_tv['rating'])\n",
    "\n",
    "x = round(statistics.mean(stats_1_movie), 2)\n",
    "print(\"Movie rating mean is :\", x)\n",
    "x = round(statistics.mean(stats_1_tv), 2)\n",
    "print(\"Tv show rating mean is :\", x)\n",
    "\n",
    "x = statistics.mode(stats_1_movie)\n",
    "print(\"Movie rating mode is :\", x)\n",
    "x = statistics.mode(stats_1_tv)\n",
    "print(\"Tv show rating mode is :\", x)\n",
    "\n",
    "x = max(stats_1_movie)\n",
    "print(\"Movie rating max is :\", x)\n",
    "x = max(stats_1_tv)\n",
    "print(\"Tv show rating max is :\", x)\n",
    "\n",
    "\n",
    "x = min(stats_1_movie)\n",
    "print(\"Movie rating min is :\", x)\n",
    "x = min(stats_1_tv)\n",
    "print(\"Tv show rating min is :\", x)"
   ]
  },
  {
   "cell_type": "code",
   "execution_count": null,
   "id": "299febc7-d388-4add-bb7a-555937bc36f6",
   "metadata": {},
   "outputs": [],
   "source": []
  },
  {
   "cell_type": "markdown",
   "id": "1c60331c-fe78-471d-828f-b6d3d1d3691d",
   "metadata": {},
   "source": [
    "## Release Year"
   ]
  },
  {
   "cell_type": "code",
   "execution_count": null,
   "id": "9f6851c5-9e53-40ef-acf5-7b0acbf17263",
   "metadata": {},
   "outputs": [],
   "source": [
    "plt.figure(figsize=(8, 4))\n",
    "sns.histplot(hbo_cleaned_movie['release_year'], bins=20, kde=True, color=film_colour)\n",
    "plt.title('Distribution of TV Show Release Year')\n",
    "plt.xlabel('Film Release Year')\n",
    "plt.ylabel('Frequency')\n",
    "plt.show()\n",
    "\n",
    "# Film Dist\n",
    "plt.figure(figsize=(8, 4))\n",
    "sns.histplot(hbo_cleaned_tv['release_year'], bins=20, kde=True, color=tv_colour)\n",
    "plt.title('Distribution of Film Release Year')\n",
    "plt.xlabel('Tv Release Year')\n",
    "plt.ylabel('Frequency')\n",
    "plt.show()\n",
    "\n",
    "stats_2_movie = hbo_cleaned_movie[hbo_cleaned_movie['release_year'].notna()]\n",
    "stats_2_tv = hbo_cleaned_tv[hbo_cleaned_tv['release_year'].notna()]\n",
    "stats_2_movie = list(stats_2_movie['release_year'])\n",
    "stats_2_tv = list(stats_2_tv['release_year'])\n",
    "\n",
    "x = max(stats_2_movie)\n",
    "print(\"Most recent movie release year :\", x)\n",
    "x = max(stats_2_tv)\n",
    "print(\"Most recent tv show release year :\", x)\n",
    "\n",
    "\n",
    "x = min(stats_2_movie)\n",
    "print(\"Oldest movie release year:\", x)\n",
    "x = min(stats_2_tv)\n",
    "print(\"Oldest tv show release year :\", x)"
   ]
  },
  {
   "cell_type": "code",
   "execution_count": null,
   "id": "9079d459-60b0-4002-9018-8ce6a19c8f45",
   "metadata": {},
   "outputs": [],
   "source": []
  },
  {
   "cell_type": "markdown",
   "id": "11c2717e-6275-4dc4-8f6b-a583b9762c58",
   "metadata": {},
   "source": [
    "## Ratings and Year analysis"
   ]
  },
  {
   "cell_type": "code",
   "execution_count": null,
   "id": "ccb48f24-c888-44f0-807d-c219dfd5e278",
   "metadata": {},
   "outputs": [],
   "source": []
  },
  {
   "cell_type": "code",
   "execution_count": null,
   "id": "6004c8b7-deb8-4e31-aba8-cd64e9edbef6",
   "metadata": {},
   "outputs": [],
   "source": [
    "plt.figure(figsize=(10, 6))\n",
    "plt.scatter(hbo_cleaned_movie['rating'], hbo_cleaned_movie['release_year'], alpha=0.2, color=film_colour)\n",
    "plt.title('Scatter Plot of Rating vs. Release Year')\n",
    "plt.xlabel('Average Rating')\n",
    "plt.ylabel('Release Year')\n",
    "plt.grid(True)\n",
    "plt.show()"
   ]
  },
  {
   "cell_type": "code",
   "execution_count": null,
   "id": "25a8250a-ab50-4bb5-898b-e247dd7d6e90",
   "metadata": {},
   "outputs": [],
   "source": [
    "\n",
    "\n",
    "g = sns.lmplot(\n",
    "    data=hbo_cleaned_movie,\n",
    "    x='rating', y='release_year', col=None,\n",
    "    height=6, aspect=2\n",
    "    ).set(title='Rating vs Release Year - Movies')\n",
    "\n",
    "g.set_axis_labels(\"Rating\", \"Release Year\")\n",
    "plt.show()"
   ]
  },
  {
   "cell_type": "markdown",
   "id": "e5c23a38-45f7-4008-a32c-0c0da70b4b4b",
   "metadata": {},
   "source": [
    "### Older movies which HBO might have bought rights to tend to have high rating, compared to their newer movies."
   ]
  },
  {
   "cell_type": "code",
   "execution_count": null,
   "id": "bd7b97eb-853d-435f-8ef8-baf39b74704a",
   "metadata": {},
   "outputs": [],
   "source": [
    "g = sns.lmplot(\n",
    "    data=hbo_cleaned_tv,\n",
    "    x='rating', y='release_year', col=None,\n",
    "    height=6, aspect=2\n",
    "    ).set(title='Rating vs Release Year - TV Shows')\n",
    "\n",
    "g.set_axis_labels(\"Rating\", \"Release Year\")\n",
    "plt.show()"
   ]
  },
  {
   "cell_type": "markdown",
   "id": "b8fe9a28-ba46-4cd7-a224-8e622bddf5ac",
   "metadata": {},
   "source": [
    "### Older tv shows which HBO might have bought rights to tend to have high rating, compared to their newer movies."
   ]
  },
  {
   "cell_type": "code",
   "execution_count": null,
   "id": "55304335",
   "metadata": {},
   "outputs": [],
   "source": []
  }
 ],
 "metadata": {
  "kernelspec": {
   "display_name": "Python 3 (ipykernel)",
   "language": "python",
   "name": "python3"
  },
  "language_info": {
   "codemirror_mode": {
    "name": "ipython",
    "version": 3
   },
   "file_extension": ".py",
   "mimetype": "text/x-python",
   "name": "python",
   "nbconvert_exporter": "python",
   "pygments_lexer": "ipython3",
   "version": "3.12.7"
  }
 },
 "nbformat": 4,
 "nbformat_minor": 5
}
